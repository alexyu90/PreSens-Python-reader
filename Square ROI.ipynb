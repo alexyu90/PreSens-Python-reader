{
 "cells": [
  {
   "cell_type": "code",
   "execution_count": 3,
   "metadata": {
    "scrolled": true
   },
   "outputs": [],
   "source": [
    "# import the necessary packages\n",
    "import pandas as pd\n",
    "import numpy as np\n",
    "import argparse\n",
    "import cv2\n",
    "import time\n",
    "\n",
    "flag = 1\n",
    "x = 320\n",
    "y = 240\n",
    "size = 10\n",
    "roi = []\n",
    "frame_rate = 5\n",
    "prev = 0\n",
    "df = pd.DataFrame(columns=['Timestamp', 'R/G value'])\n",
    "\n",
    "t = time.localtime()\n",
    "tstamp = time.strftime('%b-%d-%Y_%H%M', t)\n",
    "\n",
    "cap = cv2.VideoCapture(0) # Set Capture Device, in case of a USB Webcam try 1, or give -1 to get a list of available devices\n",
    "\n",
    "fourcc = cv2.VideoWriter_fourcc(*'MJPG')\n",
    "out = cv2.VideoWriter(tstamp + '.avi',fourcc, frame_rate, (640,480))\n",
    "\n",
    "#Set Width and Height \n",
    "# cap.set(3,1280)\n",
    "# cap.set(4,720)\n",
    "\n",
    "# The above step is to set the Resolution of the Video. The default is 640x480.\n",
    "# This example works with a Resolution of 640x480.\n",
    "while(True):\n",
    "    ret, frame = cap.read()\n",
    "    \n",
    "    font = cv2.FONT_HERSHEY_SIMPLEX    \n",
    "    cv2.putText(frame,\"Press s to start...\" ,(10,50), font, 0.6,(255,255,255),2,cv2.LINE_AA)\n",
    "\n",
    "    if cv2.waitKey(1) & 0xFF == ord('s'):\n",
    "        break   \n",
    "    elif cv2.waitKey(1) & 0xFF == ord('2'):\n",
    "        y = y + 10\n",
    "    elif cv2.waitKey(1) & 0xFF == ord('8'):\n",
    "        y = y - 10\n",
    "    elif cv2.waitKey(1) & 0xFF == ord('6'):\n",
    "        x = x + 10\n",
    "    elif cv2.waitKey(1) & 0xFF == ord('4'):\n",
    "        x = x - 10\n",
    "    elif cv2.waitKey(1) & 0xFF == ord('+'):\n",
    "        size = size + 5\n",
    "    elif cv2.waitKey(1) & 0xFF == ord('-'):\n",
    "        size = size - 5\n",
    "        \n",
    "    cv2.rectangle(frame, (x - size, y - size), (x + size, y + size), (255,255,255), 4) #Pintamos los circulos en la mascara    \n",
    "    cv2.imshow('frame',frame)\n",
    "    \n",
    "start_time = time.time()\n",
    "\n",
    "while(flag):\n",
    "    # Capture frame-by-frame\n",
    "    ret, frame = cap.read()\n",
    "    \n",
    "    time_elapsed = time.time() - prev\n",
    "    \n",
    "    if time_elapsed > 1./frame_rate:\n",
    "        prev = time.time()\n",
    "        # Image processing part\n",
    "        # load the image, clone it for output, and then convert it to grayscale\n",
    "        output = frame.copy()\n",
    "\n",
    "        cv2.rectangle(output, (x - size, y - size), (x + size, y + size), (255,255,255), 1) #Pintamos los circulos en la mascara\n",
    "\n",
    "        \n",
    "        rect_img = np.zeros((output.shape[0],output.shape[1]), np.uint8) #Creamos mascara (matriz de ceros) del tamano de la imagen original\n",
    "        cv2.rectangle(rect_img, (x - size, y - size), (x + size, y + size), (255,255,255), -1) #Pintamos los circulos en la mascara\n",
    "        mean_rgb = cv2.mean(output, mask=rect_img)[::-1]\n",
    "        mean_g = round(mean_rgb[1],2)\n",
    "        mean_r = round(mean_rgb[2],2)\n",
    "        mean_rg = round(mean_rgb[2]/mean_rgb[1],4)\n",
    "\n",
    "        timestamp = time.time() - start_time\n",
    "        df = df.append(pd.Series([timestamp, mean_rg], index=df.columns), ignore_index=True)\n",
    "\n",
    "        font = cv2.FONT_HERSHEY_SIMPLEX\n",
    "        cv2.putText(output,\"Average G value: \" + str(mean_g) ,(10,50), font, 0.6,(255,255,255),2,cv2.LINE_AA)\n",
    "        cv2.putText(output,\"Average R value: \" + str(mean_r) ,(10,70), font, 0.6,(255,255,255),2,cv2.LINE_AA)\n",
    "        cv2.putText(output,\"Average R/G: \" + str(mean_rg) ,(10,90), font, 0.6,(255,255,255),2,cv2.LINE_AA)\n",
    "\n",
    "        cv2.putText(output,\"Measurement duration: \" + str(round(timestamp,2)) + ' s',(10,440), font, 0.6,(255,255,255),2,cv2.LINE_AA)\n",
    "        cv2.putText(output,\"Press Esc to stop measurement\" ,(10,460), font, 0.6,(255,255,255),2,cv2.LINE_AA)\n",
    "\n",
    "        # Display the resulting frame\n",
    "        ## cv2.imshow('gray',gray)\n",
    "\n",
    "        r = output.copy()\n",
    "        # set blue and green channels to 0\n",
    "        r[:, :, 0] = 0\n",
    "        r[:, :, 1] = 0\n",
    "\n",
    "        g = output.copy()\n",
    "        # set blue and red channels to 0\n",
    "        g[:, :, 0] = 0\n",
    "        g[:, :, 2] = 0\n",
    "\n",
    "        cv2.imshow('red', r)\n",
    "        cv2.imshow('green', g)\n",
    "        cv2.imshow('frame',output)\n",
    "        out.write(frame)\n",
    "\n",
    "        # Press Esc to break\n",
    "        if cv2.waitKey(1) & 0xFF == 27:\n",
    "            break\n",
    "            \n",
    "# When everything is done, release the capture\n",
    "out.release()\n",
    "cap.release()\n",
    "cv2.destroyAllWindows()\n",
    "\n",
    "df.to_excel(tstamp + '.xlsx')"
   ]
  },
  {
   "cell_type": "code",
   "execution_count": 4,
   "metadata": {
    "scrolled": true
   },
   "outputs": [
    {
     "data": {
      "text/plain": [
       "Text(0, 0.5, 'R/G value')"
      ]
     },
     "execution_count": 4,
     "metadata": {},
     "output_type": "execute_result"
    },
    {
     "data": {
      "image/png": "[encoded data removed]",
      "text/plain": [
       "<Figure size 432x288 with 1 Axes>"
      ]
     },
     "metadata": {
      "needs_background": "light"
     },
     "output_type": "display_data"
    }
   ],
   "source": [
    "import matplotlib.pyplot as plt\n",
    "%matplotlib inline\n",
    "plt.plot(df['Timestamp'], df['R/G value'])\n",
    "plt.xlabel('Time [s]', fontsize=18)\n",
    "plt.ylabel('R/G value', fontsize=16)"
   ]
  }
 ],
 "metadata": {
  "kernelspec": {
   "display_name": "Python 3",
   "language": "python",
   "name": "python3"
  },
  "language_info": {
   "codemirror_mode": {
    "name": "ipython",
    "version": 3
   },
   "file_extension": ".py",
   "mimetype": "text/x-python",
   "name": "python",
   "nbconvert_exporter": "python",
   "pygments_lexer": "ipython3",
   "version": "3.7.3"
  }
 },
 "nbformat": 4,
 "nbformat_minor": 2
}
